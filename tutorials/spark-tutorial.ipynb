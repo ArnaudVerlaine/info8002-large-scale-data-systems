{
 "cells": [
  {
   "cell_type": "markdown",
   "metadata": {},
   "source": [
    "# Apache Spark Tutorial\n",
    "\n",
    "University of Liège                                                      \n",
    "Joeri Hermans (joeri.hermans@doct.ulg.ac.be)                         \n",
    "\n",
    "This notebook will guide the students of \"Large-Scale Distributed Systems\" through their initial steps with [Apache Spark](https://spark.apache.org)."
   ]
  },
  {
   "cell_type": "markdown",
   "metadata": {},
   "source": [
    "## Downloading, unpacking and moving"
   ]
  },
  {
   "cell_type": "code",
   "execution_count": 14,
   "metadata": {
    "scrolled": true
   },
   "outputs": [
    {
     "name": "stdout",
     "output_type": "stream",
     "text": [
      "rm: cannot remove 'spark-2.2.0-bin-hadoop2.7': No such file or directory\r\n"
     ]
    }
   ],
   "source": [
    "# Download the latest version of Apache Spark.\n",
    "!rm -r spark-2.2.0-bin-hadoop2.7.tgz\n",
    "!wget -q http://apache.tt.co.kr/spark/spark-2.2.0/spark-2.2.0-bin-hadoop2.7.tgz"
   ]
  },
  {
   "cell_type": "code",
   "execution_count": 20,
   "metadata": {},
   "outputs": [
    {
     "name": "stdout",
     "output_type": "stream",
     "text": [
      "rm: cannot remove 'apache-spark': No such file or directory\n",
      "tar (child): spark-2.2.0-bin-hadoop2.7.tgz: Cannot open: No such file or directory\n",
      "tar (child): Error is not recoverable: exiting now\n",
      "tar: Child returned status 2\n",
      "tar: Error is not recoverable: exiting now\n",
      "total 20\n",
      "drwxr-xr-x  4 joeri joeri 4096 Nov 15 01:42 .\n",
      "drwxr-xr-x 10 joeri joeri 4096 Nov 15 00:36 ..\n",
      "drwxr-xr-x 12 joeri joeri 4096 Jul  1 01:09 apache-spark\n",
      "drwxr-xr-x  2 joeri joeri 4096 Nov 15 00:48 .ipynb_checkpoints\n",
      "-rw-r--r--  1 joeri joeri 2623 Nov 15 01:41 spark-tutorial.ipynb\n"
     ]
    }
   ],
   "source": [
    "# Unpack the framework.\n",
    "!rm -r apache-spark\n",
    "!tar -xzf spark-2.2.0-bin-hadoop2.7.tgz\n",
    "!mv spark-2.2.0-bin-hadoop2.7 apache-spark\n",
    "!ls -al"
   ]
  },
  {
   "cell_type": "code",
   "execution_count": 23,
   "metadata": {},
   "outputs": [],
   "source": [
    "# Move it to the desired location. Make sure destination is writable.\n",
    "!rm -rf /opt/apache-spark\n",
    "!mv apache-spark /opt/"
   ]
  },
  {
   "cell_type": "code",
   "execution_count": 25,
   "metadata": {
    "collapsed": true
   },
   "outputs": [],
   "source": [
    "# Now, in order to use the libraries, make sure the libs are included in $PATH and $PYTHONPATH.\n",
    "# Add this to your .bashrc or .zshrc depending on your shell.\n",
    "!export SPARK_HOME=/opt/apache-spark\n",
    "!export PYTHONPATH=\"$SPARK_HOME/python/:$SPARK_HOME/python/lib/py4j-0.10.4-src.zip:$PYTHONPATH\"\n",
    "!export PATH=\"$SPARK_HOME/bin:$PATH\""
   ]
  },
  {
   "cell_type": "markdown",
   "metadata": {},
   "source": [
    "## Apache Spark\n",
    "\n",
    "Test your installation by importing the Python module. If you did everything correctly, this should not produce any errors."
   ]
  },
  {
   "cell_type": "code",
   "execution_count": 26,
   "metadata": {
    "collapsed": true
   },
   "outputs": [],
   "source": [
    "import pyspark"
   ]
  },
  {
   "cell_type": "markdown",
   "metadata": {},
   "source": [
    "In the following sections we give a basic introduction to most of the concepts in Spark, and how (not) to use them. If you whish to implement something specific, you can always refer to the [documentation](https://spark.apache.org/docs/latest/quick-start.html)."
   ]
  },
  {
   "cell_type": "code",
   "execution_count": null,
   "metadata": {
    "collapsed": true
   },
   "outputs": [],
   "source": []
  }
 ],
 "metadata": {
  "kernelspec": {
   "display_name": "Python 3",
   "language": "python",
   "name": "python3"
  },
  "language_info": {
   "codemirror_mode": {
    "name": "ipython",
    "version": 3
   },
   "file_extension": ".py",
   "mimetype": "text/x-python",
   "name": "python",
   "nbconvert_exporter": "python",
   "pygments_lexer": "ipython3",
   "version": "3.6.1"
  }
 },
 "nbformat": 4,
 "nbformat_minor": 2
}
